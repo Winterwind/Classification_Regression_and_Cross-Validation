{
 "cells": [
  {
   "cell_type": "markdown",
   "metadata": {},
   "source": [
    "## Final Part of Task 1"
   ]
  },
  {
   "cell_type": "markdown",
   "metadata": {},
   "source": [
    "### Read the template 'basic_steps_classification_cv_hw3.ipynb' and make sure you understand all the cells.\n",
    "### Create a new file, copy the cells [1]  to [10] to the new file, name it \"H3P2T1_RF_yourname.ipynb\", and complete this sub-task below:\n",
    "### Perform grid search for more than one hyper-parameter using GridSearchCV\n",
    "We will optimize more than one hyper-parameter of random forest <br>\n",
    "To simply this sub-task, we will consider only the following hyper-parameters: <br>\n",
    "`max_depth` \\\n",
    "`min_samples_split` \\\n",
    "`min_samples_leaf` \\\n",
    "`max_features` \\\n",
    "`max_samples` \\\n",
    "fix those two: \\\n",
    "set `n_estimators`=20 \\\n",
    "set `class_weight`=`\"balanced\"`"
   ]
  },
  {
   "cell_type": "markdown",
   "metadata": {},
   "source": [
    "### step-1:  load data and clean data ( handle missing values)"
   ]
  },
  {
   "cell_type": "code",
   "execution_count": 1,
   "metadata": {},
   "outputs": [
    {
     "data": {
      "text/plain": [
       "id                                      0\n",
       "SeriousDlqin2yrs                        0\n",
       "RevolvingUtilizationOfUnsecuredLines    0\n",
       "age                                     0\n",
       "NumberOfTime30-59DaysPastDueNotWorse    0\n",
       "DebtRatio                               0\n",
       "MonthlyIncome                           0\n",
       "NumberOfOpenCreditLinesAndLoans         0\n",
       "NumberOfTimes90DaysLate                 0\n",
       "NumberRealEstateLoansOrLines            0\n",
       "NumberOfTime60-89DaysPastDueNotWorse    0\n",
       "NumberOfDependents                      0\n",
       "dtype: int64"
      ]
     },
     "execution_count": 1,
     "metadata": {},
     "output_type": "execute_result"
    }
   ],
   "source": [
    "#drop or interpolate using Pandas\n",
    "import pandas as pd\n",
    "from sklearn.impute import SimpleImputer\n",
    "df = pd.read_csv('cs_data.csv')\n",
    "imputer = SimpleImputer(strategy='median')\n",
    "dfv=imputer.fit_transform(df.values)\n",
    "df=pd.DataFrame(data=dfv, columns=df.columns)\n",
    "df.isnull().sum()"
   ]
  },
  {
   "cell_type": "markdown",
   "metadata": {},
   "source": [
    "### step-2: preprocess data"
   ]
  },
  {
   "cell_type": "code",
   "execution_count": 2,
   "metadata": {},
   "outputs": [],
   "source": [
    "#split dataframe into X and Y\n",
    "X=df.drop(['SeriousDlqin2yrs', 'id'], axis=1)\n",
    "Y=df['SeriousDlqin2yrs']"
   ]
  },
  {
   "cell_type": "markdown",
   "metadata": {},
   "source": [
    "Let's generate some random data, so we can discuss the next steps "
   ]
  },
  {
   "cell_type": "code",
   "execution_count": 3,
   "metadata": {},
   "outputs": [],
   "source": [
    "#convert data type\n",
    "X=X.values\n",
    "Y=Y.values"
   ]
  },
  {
   "cell_type": "code",
   "execution_count": 4,
   "metadata": {},
   "outputs": [
    {
     "name": "stdout",
     "output_type": "stream",
     "text": [
      "0.0 3008750.0\n"
     ]
    }
   ],
   "source": [
    "print(X.min(), X.max())"
   ]
  },
  {
   "cell_type": "code",
   "execution_count": 5,
   "metadata": {},
   "outputs": [
    {
     "data": {
      "text/plain": [
       "0.0"
      ]
     },
     "execution_count": 5,
     "metadata": {},
     "output_type": "execute_result"
    }
   ],
   "source": [
    "#usually, class label/index starts from 0\n",
    "Y.min()"
   ]
  },
  {
   "cell_type": "code",
   "execution_count": 6,
   "metadata": {},
   "outputs": [
    {
     "data": {
      "text/plain": [
       "1.0"
      ]
     },
     "execution_count": 6,
     "metadata": {},
     "output_type": "execute_result"
    }
   ],
   "source": [
    "Y.max()"
   ]
  },
  {
   "cell_type": "markdown",
   "metadata": {},
   "source": [
    "### step-3: train-validation-test split\n",
    "analogy <br>\n",
    "training set: homework <br>\n",
    "validation set: self-test  <br>\n",
    "test set:       final exam  <br>"
   ]
  },
  {
   "cell_type": "code",
   "execution_count": 7,
   "metadata": {},
   "outputs": [],
   "source": [
    "from sklearn.model_selection import train_test_split\n",
    "#split the data (X,Y) into a training set (X_train, Y_train) and a test set (X_test, Y_test)\n",
    "X_train, X_test, Y_train, Y_test = train_test_split(X, Y, test_size=0.2, random_state=0)\n",
    "#X_train, X_val, Y_train, Y_val = train_test_split(X_train, Y_train, test_size=0.1, random_state=0)"
   ]
  },
  {
   "cell_type": "code",
   "execution_count": 8,
   "metadata": {},
   "outputs": [
    {
     "data": {
      "text/plain": [
       "(120000, 10)"
      ]
     },
     "execution_count": 8,
     "metadata": {},
     "output_type": "execute_result"
    }
   ],
   "source": [
    "X_train.shape"
   ]
  },
  {
   "cell_type": "code",
   "execution_count": 10,
   "metadata": {},
   "outputs": [],
   "source": [
    "#apply feature normalization to training, validation and test sets\n",
    "from sklearn.preprocessing import MinMaxScaler\n",
    "scaler=MinMaxScaler()\n",
    "scaler.fit(X_train)\n",
    "X_train=scaler.transform(X_train)\n",
    "X_test=scaler.transform(X_test)"
   ]
  },
  {
   "cell_type": "markdown",
   "metadata": {},
   "source": [
    "### step-4: grid search stuff"
   ]
  },
  {
   "cell_type": "code",
   "execution_count": 12,
   "metadata": {},
   "outputs": [
    {
     "name": "stderr",
     "output_type": "stream",
     "text": [
      "/Users/ariandjahed/anaconda3/lib/python3.11/site-packages/sklearn/model_selection/_validation.py:540: FitFailedWarning: \n",
      "324 fits failed out of a total of 972.\n",
      "The score on these train-test partitions for these parameters will be set to nan.\n",
      "If these failures are not expected, you can try to debug them by setting error_score='raise'.\n",
      "\n",
      "Below are more details about the failures:\n",
      "--------------------------------------------------------------------------------\n",
      "214 fits failed with the following error:\n",
      "Traceback (most recent call last):\n",
      "  File \"/Users/ariandjahed/anaconda3/lib/python3.11/site-packages/sklearn/model_selection/_validation.py\", line 888, in _fit_and_score\n",
      "    estimator.fit(X_train, y_train, **fit_params)\n",
      "  File \"/Users/ariandjahed/anaconda3/lib/python3.11/site-packages/sklearn/base.py\", line 1466, in wrapper\n",
      "    estimator._validate_params()\n",
      "  File \"/Users/ariandjahed/anaconda3/lib/python3.11/site-packages/sklearn/base.py\", line 666, in _validate_params\n",
      "    validate_parameter_constraints(\n",
      "  File \"/Users/ariandjahed/anaconda3/lib/python3.11/site-packages/sklearn/utils/_param_validation.py\", line 95, in validate_parameter_constraints\n",
      "    raise InvalidParameterError(\n",
      "sklearn.utils._param_validation.InvalidParameterError: The 'max_features' parameter of RandomForestClassifier must be an int in the range [1, inf), a float in the range (0.0, 1.0], a str among {'sqrt', 'log2'} or None. Got 'auto' instead.\n",
      "\n",
      "--------------------------------------------------------------------------------\n",
      "110 fits failed with the following error:\n",
      "Traceback (most recent call last):\n",
      "  File \"/Users/ariandjahed/anaconda3/lib/python3.11/site-packages/sklearn/model_selection/_validation.py\", line 888, in _fit_and_score\n",
      "    estimator.fit(X_train, y_train, **fit_params)\n",
      "  File \"/Users/ariandjahed/anaconda3/lib/python3.11/site-packages/sklearn/base.py\", line 1466, in wrapper\n",
      "    estimator._validate_params()\n",
      "  File \"/Users/ariandjahed/anaconda3/lib/python3.11/site-packages/sklearn/base.py\", line 666, in _validate_params\n",
      "    validate_parameter_constraints(\n",
      "  File \"/Users/ariandjahed/anaconda3/lib/python3.11/site-packages/sklearn/utils/_param_validation.py\", line 95, in validate_parameter_constraints\n",
      "    raise InvalidParameterError(\n",
      "sklearn.utils._param_validation.InvalidParameterError: The 'max_features' parameter of RandomForestClassifier must be an int in the range [1, inf), a float in the range (0.0, 1.0], a str among {'log2', 'sqrt'} or None. Got 'auto' instead.\n",
      "\n",
      "  warnings.warn(some_fits_failed_message, FitFailedWarning)\n",
      "/Users/ariandjahed/anaconda3/lib/python3.11/site-packages/numpy/ma/core.py:2820: RuntimeWarning: invalid value encountered in cast\n",
      "  _data = np.array(data, dtype=dtype, copy=copy,\n",
      "/Users/ariandjahed/anaconda3/lib/python3.11/site-packages/sklearn/model_selection/_search.py:1102: UserWarning: One or more of the test scores are non-finite: [       nan        nan        nan        nan        nan        nan\n",
      "        nan        nan        nan        nan        nan        nan\n",
      "        nan        nan        nan        nan        nan        nan\n",
      "        nan        nan        nan        nan        nan        nan\n",
      "        nan        nan        nan 0.83255    0.83096667 0.83138333\n",
      " 0.831275   0.831275   0.83135833 0.83296667 0.83296667 0.83318333\n",
      " 0.82813333 0.8292     0.82960833 0.82876667 0.82956667 0.82976667\n",
      " 0.83105    0.83105    0.830425   0.82969167 0.828      0.828825\n",
      " 0.82795    0.827425   0.82793333 0.8276     0.8276     0.82846667\n",
      " 0.83255    0.83096667 0.83138333 0.831275   0.831275   0.83135833\n",
      " 0.83296667 0.83296667 0.83318333 0.82813333 0.8292     0.82960833\n",
      " 0.82876667 0.82956667 0.82976667 0.83105    0.83105    0.830425\n",
      " 0.82969167 0.828      0.828825   0.82795    0.827425   0.82793333\n",
      " 0.8276     0.8276     0.82846667        nan        nan        nan\n",
      "        nan        nan        nan        nan        nan        nan\n",
      "        nan        nan        nan        nan        nan        nan\n",
      "        nan        nan        nan        nan        nan        nan\n",
      "        nan        nan        nan        nan        nan        nan\n",
      " 0.86371667 0.86179167 0.86165    0.86286667 0.861      0.86185\n",
      " 0.85824167 0.85824167 0.86065833 0.85726667 0.85734167 0.85718333\n",
      " 0.85645    0.86001667 0.855325   0.85760833 0.85760833 0.85665833\n",
      " 0.85258333 0.85311667 0.85108333 0.85085833 0.84941667 0.85028333\n",
      " 0.85448333 0.85448333 0.84935    0.86371667 0.86179167 0.86165\n",
      " 0.86286667 0.861      0.86185    0.85824167 0.85824167 0.86065833\n",
      " 0.85726667 0.85734167 0.85718333 0.85645    0.86001667 0.855325\n",
      " 0.85760833 0.85760833 0.85665833 0.85258333 0.85311667 0.85108333\n",
      " 0.85085833 0.84941667 0.85028333 0.85448333 0.85448333 0.84935\n",
      "        nan        nan        nan        nan        nan        nan\n",
      "        nan        nan        nan        nan        nan        nan\n",
      "        nan        nan        nan        nan        nan        nan\n",
      "        nan        nan        nan        nan        nan        nan\n",
      "        nan        nan        nan 0.90595833 0.90345    0.89919167\n",
      " 0.90206667 0.90250833 0.89845    0.897525   0.897525   0.89576667\n",
      " 0.90039167 0.89750833 0.89341667 0.89821667 0.8971     0.89441667\n",
      " 0.89134167 0.89134167 0.89208333 0.89715    0.894225   0.891325\n",
      " 0.895575   0.89364167 0.88945    0.88714167 0.88714167 0.88909167\n",
      " 0.90595833 0.90345    0.89919167 0.90206667 0.90250833 0.89845\n",
      " 0.897525   0.897525   0.89576667 0.90039167 0.89750833 0.89341667\n",
      " 0.89821667 0.8971     0.89441667 0.89134167 0.89134167 0.89208333\n",
      " 0.89715    0.894225   0.891325   0.895575   0.89364167 0.88945\n",
      " 0.88714167 0.88714167 0.88909167        nan        nan        nan\n",
      "        nan        nan        nan        nan        nan        nan\n",
      "        nan        nan        nan        nan        nan        nan\n",
      "        nan        nan        nan        nan        nan        nan\n",
      "        nan        nan        nan        nan        nan        nan\n",
      " 0.9279     0.925525   0.91974167 0.92501667 0.92425    0.917225\n",
      " 0.91411667 0.91411667 0.91185833 0.92581667 0.92278333 0.91676667\n",
      " 0.922025   0.92139167 0.91356667 0.91243333 0.91243333 0.90974167\n",
      " 0.92505    0.92109167 0.91500833 0.92065    0.91894167 0.91388333\n",
      " 0.909625   0.909625   0.90779167 0.9279     0.925525   0.91974167\n",
      " 0.92501667 0.92425    0.917225   0.91411667 0.91411667 0.91185833\n",
      " 0.92581667 0.92278333 0.91676667 0.922025   0.92139167 0.91356667\n",
      " 0.91243333 0.91243333 0.90974167 0.92505    0.92109167 0.91500833\n",
      " 0.92065    0.91894167 0.91388333 0.909625   0.909625   0.90779167]\n",
      "  warnings.warn(\n"
     ]
    },
    {
     "name": "stdout",
     "output_type": "stream",
     "text": [
      "Best parameters: {'max_depth': 20, 'max_features': 'sqrt', 'max_samples': 0.5, 'min_samples_leaf': 1, 'min_samples_split': 2}\n",
      "Best score: 0.9279000000000001\n"
     ]
    }
   ],
   "source": [
    "from sklearn.ensemble import RandomForestClassifier\n",
    "from sklearn.model_selection import GridSearchCV\n",
    "\n",
    "#define the parameter grid\n",
    "param_grid = {\n",
    "    'max_depth': [5, 10, 15, 20],\n",
    "    'min_samples_split': [2, 5, 10],\n",
    "    'min_samples_leaf': [1, 2, 4],\n",
    "    'max_features': ['auto', 'sqrt', 'log2'],\n",
    "    'max_samples': [0.5, 0.75, 1.0]\n",
    "}\n",
    "\n",
    "rf = RandomForestClassifier(n_estimators=20, random_state=0, class_weight='balanced')\n",
    "\n",
    "grid_search = GridSearchCV(estimator=rf, param_grid=param_grid, cv=3, n_jobs=4, scoring='accuracy')\n",
    "grid_search.fit(X_train, Y_train)\n",
    "\n",
    "print(f'Best parameters: {grid_search.best_params_}')\n",
    "print(f'Best score: {grid_search.best_score_}')"
   ]
  }
 ],
 "metadata": {
  "kernelspec": {
   "display_name": "Python 3 (ipykernel)",
   "language": "python",
   "name": "python3"
  },
  "language_info": {
   "codemirror_mode": {
    "name": "ipython",
    "version": 3
   },
   "file_extension": ".py",
   "mimetype": "text/x-python",
   "name": "python",
   "nbconvert_exporter": "python",
   "pygments_lexer": "ipython3",
   "version": "3.11.10"
  }
 },
 "nbformat": 4,
 "nbformat_minor": 4
}
